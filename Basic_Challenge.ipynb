{
  "nbformat": 4,
  "nbformat_minor": 0,
  "metadata": {
    "colab": {
      "name": "Basic Challenge.ipynb",
      "provenance": [],
      "collapsed_sections": [
        "KyMPvs3x2wUU",
        "sy8-3Q5J5JYA",
        "S0UROqkG5qcJ",
        "HPyomgKV7u63",
        "m-2iH4gX72lj",
        "cl5hnP-Q8Lob",
        "jw3WncMG89GO",
        "ubOPXZqUMgOk",
        "uJ3te4_c9NI0",
        "3Xv43p8b-dpE",
        "GfdqzRm1GNrA",
        "rrT0CR2AG3ye"
      ]
    },
    "kernelspec": {
      "name": "python3",
      "display_name": "Python 3"
    }
  },
  "cells": [
    {
      "cell_type": "markdown",
      "metadata": {
        "id": "KyMPvs3x2wUU",
        "colab_type": "text"
      },
      "source": [
        "## **Print Function**"
      ]
    },
    {
      "cell_type": "code",
      "metadata": {
        "id": "yPaPA2UE3A9W",
        "colab_type": "code",
        "colab": {
          "base_uri": "https://localhost:8080/",
          "height": 34
        },
        "outputId": "b27d742b-5e3b-4b51-c8f8-aac5752dde22"
      },
      "source": [
        "print(\"Hello\")"
      ],
      "execution_count": 2,
      "outputs": [
        {
          "output_type": "stream",
          "text": [
            "Hello\n"
          ],
          "name": "stdout"
        }
      ]
    },
    {
      "cell_type": "code",
      "metadata": {
        "id": "YiPlJ5xx3G75",
        "colab_type": "code",
        "colab": {
          "base_uri": "https://localhost:8080/",
          "height": 34
        },
        "outputId": "479e91f5-3ba3-4b06-ca8e-55c23634f738"
      },
      "source": [
        "y=\"Hello\"\n",
        "y"
      ],
      "execution_count": 3,
      "outputs": [
        {
          "output_type": "execute_result",
          "data": {
            "text/plain": [
              "'Hello'"
            ]
          },
          "metadata": {
            "tags": []
          },
          "execution_count": 3
        }
      ]
    },
    {
      "cell_type": "code",
      "metadata": {
        "id": "4hPp74Ux3G66",
        "colab_type": "code",
        "colab": {
          "base_uri": "https://localhost:8080/",
          "height": 34
        },
        "outputId": "153d4b46-d147-43a2-bdc2-369a54ca649e"
      },
      "source": [
        "num=11\n",
        "name=\"Mark\"\n",
        "print(\"My name is\",name,\"and I am\",num,\"years old\")"
      ],
      "execution_count": 4,
      "outputs": [
        {
          "output_type": "stream",
          "text": [
            "My name is Mark and I am 11 years old\n"
          ],
          "name": "stdout"
        }
      ]
    },
    {
      "cell_type": "markdown",
      "metadata": {
        "id": "sy8-3Q5J5JYA",
        "colab_type": "text"
      },
      "source": [
        "# **String**"
      ]
    },
    {
      "cell_type": "code",
      "metadata": {
        "id": "n2Y6ptGx5Qs0",
        "colab_type": "code",
        "colab": {
          "base_uri": "https://localhost:8080/",
          "height": 34
        },
        "outputId": "ffff64e5-8478-4f3b-90e0-94433b8b11ce"
      },
      "source": [
        "'single quotes'"
      ],
      "execution_count": 5,
      "outputs": [
        {
          "output_type": "execute_result",
          "data": {
            "text/plain": [
              "'single quotes'"
            ]
          },
          "metadata": {
            "tags": []
          },
          "execution_count": 5
        }
      ]
    },
    {
      "cell_type": "code",
      "metadata": {
        "id": "Uk1-7RAF5KXN",
        "colab_type": "code",
        "colab": {
          "base_uri": "https://localhost:8080/",
          "height": 34
        },
        "outputId": "4b09abe3-d868-410f-ae53-95dca92da544"
      },
      "source": [
        "\"double quotes\""
      ],
      "execution_count": 7,
      "outputs": [
        {
          "output_type": "execute_result",
          "data": {
            "text/plain": [
              "'double quotes'"
            ]
          },
          "metadata": {
            "tags": []
          },
          "execution_count": 7
        }
      ]
    },
    {
      "cell_type": "code",
      "metadata": {
        "id": "ETdz1Fsc5d_X",
        "colab_type": "code",
        "colab": {
          "base_uri": "https://localhost:8080/",
          "height": 34
        },
        "outputId": "ceed4a6a-ed58-469d-caa4-3017fcd82dd2"
      },
      "source": [
        "\"lot's of quotes\""
      ],
      "execution_count": 8,
      "outputs": [
        {
          "output_type": "execute_result",
          "data": {
            "text/plain": [
              "\"lot's of quotes\""
            ]
          },
          "metadata": {
            "tags": []
          },
          "execution_count": 8
        }
      ]
    },
    {
      "cell_type": "markdown",
      "metadata": {
        "id": "S0UROqkG5qcJ",
        "colab_type": "text"
      },
      "source": [
        "# **Variables**"
      ]
    },
    {
      "cell_type": "markdown",
      "metadata": {
        "id": "e9EUQdol540_",
        "colab_type": "text"
      },
      "source": [
        "variable cannot start with numeric value."
      ]
    },
    {
      "cell_type": "code",
      "metadata": {
        "id": "pM3TEGVV6C-W",
        "colab_type": "code",
        "colab": {
          "base_uri": "https://localhost:8080/",
          "height": 34
        },
        "outputId": "40c73782-a9ad-426f-d20f-7ee75d152888"
      },
      "source": [
        "variable=12\n",
        "variable"
      ],
      "execution_count": 11,
      "outputs": [
        {
          "output_type": "execute_result",
          "data": {
            "text/plain": [
              "12"
            ]
          },
          "metadata": {
            "tags": []
          },
          "execution_count": 11
        }
      ]
    },
    {
      "cell_type": "code",
      "metadata": {
        "id": "HmXVMAOb6I5E",
        "colab_type": "code",
        "colab": {
          "base_uri": "https://localhost:8080/",
          "height": 34
        },
        "outputId": "8599e13b-dee2-4c1b-e412-945aec8e0cdb"
      },
      "source": [
        "x=2\n",
        "y=3\n",
        "z=x+y\n",
        "z"
      ],
      "execution_count": 13,
      "outputs": [
        {
          "output_type": "execute_result",
          "data": {
            "text/plain": [
              "5"
            ]
          },
          "metadata": {
            "tags": []
          },
          "execution_count": 13
        }
      ]
    },
    {
      "cell_type": "markdown",
      "metadata": {
        "colab_type": "text",
        "id": "HPyomgKV7u63"
      },
      "source": [
        "# **Lists**"
      ]
    },
    {
      "cell_type": "code",
      "metadata": {
        "colab_type": "code",
        "outputId": "3427226c-3bd9-48e9-f774-640b5dafa5f8",
        "id": "9HKR680O7u60",
        "colab": {
          "base_uri": "https://localhost:8080/",
          "height": 34
        }
      },
      "source": [
        "[1,2,3]\n"
      ],
      "execution_count": 0,
      "outputs": [
        {
          "output_type": "execute_result",
          "data": {
            "text/plain": [
              "[1, 2, 3]"
            ]
          },
          "metadata": {
            "tags": []
          },
          "execution_count": 15
        }
      ]
    },
    {
      "cell_type": "code",
      "metadata": {
        "colab_type": "code",
        "outputId": "1fdc15b2-4b7e-4e81-ec92-2e6f28f83dfa",
        "id": "KCY4rqLV7u6u",
        "colab": {
          "base_uri": "https://localhost:8080/",
          "height": 34
        }
      },
      "source": [
        "['hi',1,[1,2]]"
      ],
      "execution_count": 0,
      "outputs": [
        {
          "output_type": "execute_result",
          "data": {
            "text/plain": [
              "['hi', 1, [1, 2]]"
            ]
          },
          "metadata": {
            "tags": []
          },
          "execution_count": 16
        }
      ]
    },
    {
      "cell_type": "code",
      "metadata": {
        "colab_type": "code",
        "outputId": "4066c882-5cb7-4feb-9814-141c43f16527",
        "id": "HEn98HZB7u6r",
        "colab": {
          "base_uri": "https://localhost:8080/",
          "height": 34
        }
      },
      "source": [
        "my_list = ['a','b','c']\n",
        "my_list.append('d')\n",
        "my_list"
      ],
      "execution_count": 0,
      "outputs": [
        {
          "output_type": "execute_result",
          "data": {
            "text/plain": [
              "['a', 'b', 'c', 'd']"
            ]
          },
          "metadata": {
            "tags": []
          },
          "execution_count": 17
        }
      ]
    },
    {
      "cell_type": "code",
      "metadata": {
        "colab_type": "code",
        "outputId": "bb45248d-0c15-4d6e-866d-74d2b0bc1e4b",
        "id": "8riwFvkR7u6l",
        "colab": {
          "base_uri": "https://localhost:8080/",
          "height": 34
        }
      },
      "source": [
        "my_list[0]"
      ],
      "execution_count": 0,
      "outputs": [
        {
          "output_type": "execute_result",
          "data": {
            "text/plain": [
              "'a'"
            ]
          },
          "metadata": {
            "tags": []
          },
          "execution_count": 18
        }
      ]
    },
    {
      "cell_type": "code",
      "metadata": {
        "colab_type": "code",
        "outputId": "6c68b3fd-50d7-4549-a52e-d9cd42ce110f",
        "id": "L4iaoEEl7u6g",
        "colab": {
          "base_uri": "https://localhost:8080/",
          "height": 34
        }
      },
      "source": [
        "my_list[1]"
      ],
      "execution_count": 0,
      "outputs": [
        {
          "output_type": "execute_result",
          "data": {
            "text/plain": [
              "'b'"
            ]
          },
          "metadata": {
            "tags": []
          },
          "execution_count": 19
        }
      ]
    },
    {
      "cell_type": "code",
      "metadata": {
        "colab_type": "code",
        "outputId": "c499f8a0-3283-4667-abd5-5df4c7a05498",
        "id": "ffjn8LDf7u6a",
        "colab": {
          "base_uri": "https://localhost:8080/",
          "height": 34
        }
      },
      "source": [
        "my_list[1:]"
      ],
      "execution_count": 0,
      "outputs": [
        {
          "output_type": "execute_result",
          "data": {
            "text/plain": [
              "['b', 'c', 'd']"
            ]
          },
          "metadata": {
            "tags": []
          },
          "execution_count": 20
        }
      ]
    },
    {
      "cell_type": "code",
      "metadata": {
        "colab_type": "code",
        "outputId": "a8d033d5-11b5-40ef-9dd0-24314524398d",
        "id": "bkjO3fSj7u6U",
        "colab": {
          "base_uri": "https://localhost:8080/",
          "height": 34
        }
      },
      "source": [
        "my_list[:1]"
      ],
      "execution_count": 0,
      "outputs": [
        {
          "output_type": "execute_result",
          "data": {
            "text/plain": [
              "['a']"
            ]
          },
          "metadata": {
            "tags": []
          },
          "execution_count": 21
        }
      ]
    },
    {
      "cell_type": "code",
      "metadata": {
        "colab_type": "code",
        "outputId": "68c84491-f7c4-4746-e944-f16d4031ef4a",
        "id": "YjKzyAon7u6O",
        "colab": {
          "base_uri": "https://localhost:8080/",
          "height": 34
        }
      },
      "source": [
        "my_list[0] = 'New Element'\n",
        "my_list"
      ],
      "execution_count": 0,
      "outputs": [
        {
          "output_type": "execute_result",
          "data": {
            "text/plain": [
              "['New Element', 'b', 'c', 'd']"
            ]
          },
          "metadata": {
            "tags": []
          },
          "execution_count": 23
        }
      ]
    },
    {
      "cell_type": "code",
      "metadata": {
        "colab_type": "code",
        "id": "MfANG7407u6A",
        "colab": {}
      },
      "source": [
        ""
      ],
      "execution_count": 0,
      "outputs": []
    },
    {
      "cell_type": "markdown",
      "metadata": {
        "id": "cPUiiiRW71rB",
        "colab_type": "text"
      },
      "source": [
        ""
      ]
    },
    {
      "cell_type": "markdown",
      "metadata": {
        "id": "m-2iH4gX72lj",
        "colab_type": "text"
      },
      "source": [
        "# **Sets**"
      ]
    },
    {
      "cell_type": "code",
      "metadata": {
        "id": "b8HUCVWm75ue",
        "colab_type": "code",
        "colab": {
          "base_uri": "https://localhost:8080/",
          "height": 34
        },
        "outputId": "6a23a6f0-ee03-470e-f427-eac92ad67208"
      },
      "source": [
        "{1,2,3}"
      ],
      "execution_count": 24,
      "outputs": [
        {
          "output_type": "execute_result",
          "data": {
            "text/plain": [
              "{1, 2, 3}"
            ]
          },
          "metadata": {
            "tags": []
          },
          "execution_count": 24
        }
      ]
    },
    {
      "cell_type": "code",
      "metadata": {
        "id": "FMz57IJ37-i2",
        "colab_type": "code",
        "colab": {
          "base_uri": "https://localhost:8080/",
          "height": 34
        },
        "outputId": "17e40eb5-0f7a-49f4-fa16-5dceafe8444e"
      },
      "source": [
        "{1,2,3,1,2,1,2,3,3,3,3,2,2,2,1,2}"
      ],
      "execution_count": 27,
      "outputs": [
        {
          "output_type": "execute_result",
          "data": {
            "text/plain": [
              "{1, 2, 3}"
            ]
          },
          "metadata": {
            "tags": []
          },
          "execution_count": 27
        }
      ]
    },
    {
      "cell_type": "markdown",
      "metadata": {
        "id": "cl5hnP-Q8Lob",
        "colab_type": "text"
      },
      "source": [
        "# Tuples"
      ]
    },
    {
      "cell_type": "code",
      "metadata": {
        "id": "fNg2VqBM8fcV",
        "colab_type": "code",
        "colab": {}
      },
      "source": [
        "t = (1,2,3)"
      ],
      "execution_count": 0,
      "outputs": []
    },
    {
      "cell_type": "code",
      "metadata": {
        "id": "ZZWdx4nb8kzA",
        "colab_type": "code",
        "colab": {
          "base_uri": "https://localhost:8080/",
          "height": 34
        },
        "outputId": "86514363-341c-46b1-c1be-b856d406daea"
      },
      "source": [
        "t[0]"
      ],
      "execution_count": 29,
      "outputs": [
        {
          "output_type": "execute_result",
          "data": {
            "text/plain": [
              "1"
            ]
          },
          "metadata": {
            "tags": []
          },
          "execution_count": 29
        }
      ]
    },
    {
      "cell_type": "markdown",
      "metadata": {
        "id": "rXJ6Rdb08r7W",
        "colab_type": "text"
      },
      "source": [
        "Tuples doesnot support item assignment."
      ]
    },
    {
      "cell_type": "code",
      "metadata": {
        "id": "gkXtji5x8mu0",
        "colab_type": "code",
        "colab": {
          "base_uri": "https://localhost:8080/",
          "height": 163
        },
        "outputId": "468d1778-06e7-4f36-b0d5-4649a822543f"
      },
      "source": [
        "t[0]=\"New Element\""
      ],
      "execution_count": 30,
      "outputs": [
        {
          "output_type": "error",
          "ename": "TypeError",
          "evalue": "ignored",
          "traceback": [
            "\u001b[0;31m---------------------------------------------------------------------------\u001b[0m",
            "\u001b[0;31mTypeError\u001b[0m                                 Traceback (most recent call last)",
            "\u001b[0;32m<ipython-input-30-367542db257b>\u001b[0m in \u001b[0;36m<module>\u001b[0;34m()\u001b[0m\n\u001b[0;32m----> 1\u001b[0;31m \u001b[0mt\u001b[0m\u001b[0;34m[\u001b[0m\u001b[0;36m0\u001b[0m\u001b[0;34m]\u001b[0m\u001b[0;34m=\u001b[0m\u001b[0;34m\"New Element\"\u001b[0m\u001b[0;34m\u001b[0m\u001b[0;34m\u001b[0m\u001b[0m\n\u001b[0m",
            "\u001b[0;31mTypeError\u001b[0m: 'tuple' object does not support item assignment"
          ]
        }
      ]
    },
    {
      "cell_type": "markdown",
      "metadata": {
        "id": "jw3WncMG89GO",
        "colab_type": "text"
      },
      "source": [
        "# **Dictionaries**"
      ]
    },
    {
      "cell_type": "code",
      "metadata": {
        "id": "qUDCXQpn9Dhw",
        "colab_type": "code",
        "colab": {
          "base_uri": "https://localhost:8080/",
          "height": 34
        },
        "outputId": "9d2193e5-7a9d-4474-e72d-772a91483f9e"
      },
      "source": [
        "d = {'key1':'item1','key2':'item2'}\n",
        "d"
      ],
      "execution_count": 33,
      "outputs": [
        {
          "output_type": "execute_result",
          "data": {
            "text/plain": [
              "{'key1': 'item1', 'key2': 'item2'}"
            ]
          },
          "metadata": {
            "tags": []
          },
          "execution_count": 33
        }
      ]
    },
    {
      "cell_type": "code",
      "metadata": {
        "id": "aL9T4oz59HgX",
        "colab_type": "code",
        "colab": {
          "base_uri": "https://localhost:8080/",
          "height": 34
        },
        "outputId": "d9f1a7a4-8d9b-4a39-bc5e-6ea1ec1a4279"
      },
      "source": [
        "d['key1']"
      ],
      "execution_count": 34,
      "outputs": [
        {
          "output_type": "execute_result",
          "data": {
            "text/plain": [
              "'item1'"
            ]
          },
          "metadata": {
            "tags": []
          },
          "execution_count": 34
        }
      ]
    },
    {
      "cell_type": "markdown",
      "metadata": {
        "id": "ubOPXZqUMgOk",
        "colab_type": "text"
      },
      "source": [
        "# **Loops**"
      ]
    },
    {
      "cell_type": "markdown",
      "metadata": {
        "id": "sJVbrvphMiT1",
        "colab_type": "text"
      },
      "source": [
        "while loop"
      ]
    },
    {
      "cell_type": "code",
      "metadata": {
        "id": "LxCUysZhMjr3",
        "colab_type": "code",
        "colab": {
          "base_uri": "https://localhost:8080/",
          "height": 85
        },
        "outputId": "5928c3f6-f3bd-4ca7-d757-d17e9fda117c"
      },
      "source": [
        "i = 1\n",
        "while i < 5:\n",
        "    print('i is', i)\n",
        "    i = i+1"
      ],
      "execution_count": 53,
      "outputs": [
        {
          "output_type": "stream",
          "text": [
            "i is 1\n",
            "i is 2\n",
            "i is 3\n",
            "i is 4\n"
          ],
          "name": "stdout"
        }
      ]
    },
    {
      "cell_type": "markdown",
      "metadata": {
        "id": "k8iS2lQwM18a",
        "colab_type": "text"
      },
      "source": [
        "for loop"
      ]
    },
    {
      "cell_type": "code",
      "metadata": {
        "id": "h-Vbs1VfM3g8",
        "colab_type": "code",
        "colab": {
          "base_uri": "https://localhost:8080/",
          "height": 102
        },
        "outputId": "af851048-3efa-4c20-bf15-7f5d6ce9d956"
      },
      "source": [
        "list_l = [1,2,3,4,5]\n",
        "for i in list_l:\n",
        "  print(i)"
      ],
      "execution_count": 54,
      "outputs": [
        {
          "output_type": "stream",
          "text": [
            "1\n",
            "2\n",
            "3\n",
            "4\n",
            "5\n"
          ],
          "name": "stdout"
        }
      ]
    },
    {
      "cell_type": "code",
      "metadata": {
        "id": "2WcdPNVGNSNT",
        "colab_type": "code",
        "colab": {
          "base_uri": "https://localhost:8080/",
          "height": 102
        },
        "outputId": "4bca73a7-aa3c-42c2-c136-603d7f88493d"
      },
      "source": [
        "for i in list_l:\n",
        "  print(\"Hello\")"
      ],
      "execution_count": 56,
      "outputs": [
        {
          "output_type": "stream",
          "text": [
            "Hello\n",
            "Hello\n",
            "Hello\n",
            "Hello\n",
            "Hello\n"
          ],
          "name": "stdout"
        }
      ]
    },
    {
      "cell_type": "markdown",
      "metadata": {
        "id": "FGLVucsaM15n",
        "colab_type": "text"
      },
      "source": [
        ""
      ]
    },
    {
      "cell_type": "markdown",
      "metadata": {
        "id": "ZEGOs-UJNbHX",
        "colab_type": "text"
      },
      "source": [
        "# **if,else,elif**"
      ]
    },
    {
      "cell_type": "code",
      "metadata": {
        "id": "Pv-7HW2nNfPZ",
        "colab_type": "code",
        "colab": {
          "base_uri": "https://localhost:8080/",
          "height": 34
        },
        "outputId": "7760e55b-ee87-4778-d386-0d512eb95b8e"
      },
      "source": [
        "if 1 < 2:\n",
        "    print('Hello!')"
      ],
      "execution_count": 58,
      "outputs": [
        {
          "output_type": "stream",
          "text": [
            "Hello!\n"
          ],
          "name": "stdout"
        }
      ]
    },
    {
      "cell_type": "code",
      "metadata": {
        "id": "cUueqA6-NfOp",
        "colab_type": "code",
        "colab": {
          "base_uri": "https://localhost:8080/",
          "height": 34
        },
        "outputId": "c9c5980a-e81b-4846-a313-8d9476f7039d"
      },
      "source": [
        "if 1 < 2:\n",
        "    print('first')\n",
        "else:\n",
        "    print('last')"
      ],
      "execution_count": 59,
      "outputs": [
        {
          "output_type": "stream",
          "text": [
            "first\n"
          ],
          "name": "stdout"
        }
      ]
    },
    {
      "cell_type": "code",
      "metadata": {
        "id": "rCS776KsNwjv",
        "colab_type": "code",
        "colab": {
          "base_uri": "https://localhost:8080/",
          "height": 34
        },
        "outputId": "b515f9a9-ff0d-4650-d837-dbd13ac6c48e"
      },
      "source": [
        "if 1 > 2:\n",
        "    print('first')\n",
        "else:\n",
        "    print('last')"
      ],
      "execution_count": 60,
      "outputs": [
        {
          "output_type": "stream",
          "text": [
            "last\n"
          ],
          "name": "stdout"
        }
      ]
    },
    {
      "cell_type": "code",
      "metadata": {
        "id": "d23uyLkiN3Ju",
        "colab_type": "code",
        "colab": {
          "base_uri": "https://localhost:8080/",
          "height": 34
        },
        "outputId": "828a81fe-e4f4-47f4-dbaf-fa71cd37d269"
      },
      "source": [
        "if 1 == 2:\n",
        "    print('first')\n",
        "elif 3 == 3:\n",
        "    print('middle')\n",
        "else:\n",
        "    print('Last')"
      ],
      "execution_count": 61,
      "outputs": [
        {
          "output_type": "stream",
          "text": [
            "middle\n"
          ],
          "name": "stdout"
        }
      ]
    },
    {
      "cell_type": "markdown",
      "metadata": {
        "id": "uJ3te4_c9NI0",
        "colab_type": "text"
      },
      "source": [
        "# **List Operations**"
      ]
    },
    {
      "cell_type": "code",
      "metadata": {
        "id": "_EARzJVy9Rnu",
        "colab_type": "code",
        "colab": {}
      },
      "source": [
        "x = [1,2,3,4]"
      ],
      "execution_count": 0,
      "outputs": []
    },
    {
      "cell_type": "code",
      "metadata": {
        "id": "GGVkQqmj9gk4",
        "colab_type": "code",
        "colab": {
          "base_uri": "https://localhost:8080/",
          "height": 34
        },
        "outputId": "665ce2e1-b232-4dca-bd1d-a601f0c9dfa6"
      },
      "source": [
        "l = []\n",
        "for i in x:\n",
        "    l.append(i**2)\n",
        "print(l)\n",
        "#adding every element of list x in list l by multiplying them by 2."
      ],
      "execution_count": 40,
      "outputs": [
        {
          "output_type": "stream",
          "text": [
            "[1, 4, 9, 16]\n"
          ],
          "name": "stdout"
        }
      ]
    },
    {
      "cell_type": "markdown",
      "metadata": {
        "id": "3Xv43p8b-dpE",
        "colab_type": "text"
      },
      "source": [
        "# String Operations"
      ]
    },
    {
      "cell_type": "code",
      "metadata": {
        "id": "G7mYXjuA-s4_",
        "colab_type": "code",
        "colab": {
          "base_uri": "https://localhost:8080/",
          "height": 34
        },
        "outputId": "0e828b74-2e77-449a-ef09-be6ce8757971"
      },
      "source": [
        "string1=\"corona is getting deadly\"\n",
        "print(string1)"
      ],
      "execution_count": 41,
      "outputs": [
        {
          "output_type": "stream",
          "text": [
            "corona is getting deadly\n"
          ],
          "name": "stdout"
        }
      ]
    },
    {
      "cell_type": "code",
      "metadata": {
        "id": "ulqVhzhY90O7",
        "colab_type": "code",
        "colab": {
          "base_uri": "https://localhost:8080/",
          "height": 34
        },
        "outputId": "8d7df15b-9dd3-4da4-abb8-c0dad3ec9c94"
      },
      "source": [
        "#printing 1st character\n",
        "string1[0]"
      ],
      "execution_count": 42,
      "outputs": [
        {
          "output_type": "execute_result",
          "data": {
            "text/plain": [
              "'c'"
            ]
          },
          "metadata": {
            "tags": []
          },
          "execution_count": 42
        }
      ]
    },
    {
      "cell_type": "code",
      "metadata": {
        "id": "jXY7kN_M-91e",
        "colab_type": "code",
        "colab": {
          "base_uri": "https://localhost:8080/",
          "height": 34
        },
        "outputId": "b00f6c36-7622-407c-cbea-fbaf87c176ea"
      },
      "source": [
        "#printing last character\n",
        "string1[-1]"
      ],
      "execution_count": 43,
      "outputs": [
        {
          "output_type": "execute_result",
          "data": {
            "text/plain": [
              "'y'"
            ]
          },
          "metadata": {
            "tags": []
          },
          "execution_count": 43
        }
      ]
    },
    {
      "cell_type": "markdown",
      "metadata": {
        "id": "YssfY7al_L8r",
        "colab_type": "text"
      },
      "source": [
        "string slicing"
      ]
    },
    {
      "cell_type": "code",
      "metadata": {
        "id": "DUwLA0Rd_JZ1",
        "colab_type": "code",
        "colab": {
          "base_uri": "https://localhost:8080/",
          "height": 34
        },
        "outputId": "d565735d-99b6-4212-992f-732c3f5c6a24"
      },
      "source": [
        "# Printing 2rd to 12th character\n",
        "print(string1[2:12])"
      ],
      "execution_count": 44,
      "outputs": [
        {
          "output_type": "stream",
          "text": [
            "rona is ge\n"
          ],
          "name": "stdout"
        }
      ]
    },
    {
      "cell_type": "code",
      "metadata": {
        "id": "k5DeJdmo_wyU",
        "colab_type": "code",
        "colab": {
          "base_uri": "https://localhost:8080/",
          "height": 34
        },
        "outputId": "14ddf1e5-f583-4b23-8745-da3a73eea42a"
      },
      "source": [
        "# Printing 3rd and 4th last character\n",
        "print(string1[3:-3])"
      ],
      "execution_count": 46,
      "outputs": [
        {
          "output_type": "stream",
          "text": [
            "ona is getting dea\n"
          ],
          "name": "stdout"
        }
      ]
    },
    {
      "cell_type": "markdown",
      "metadata": {
        "id": "GfdqzRm1GNrA",
        "colab_type": "text"
      },
      "source": [
        "# **Defining functions**"
      ]
    },
    {
      "cell_type": "code",
      "metadata": {
        "id": "1d4YIsFkGS0k",
        "colab_type": "code",
        "colab": {}
      },
      "source": [
        "def my_func(param1='default'):\n",
        "    \"\"\"\n",
        "    statement 1\n",
        "    .\n",
        "    .\n",
        "    .statement 2\n",
        "    \"\"\"\n",
        "    print(param1)"
      ],
      "execution_count": 0,
      "outputs": []
    },
    {
      "cell_type": "code",
      "metadata": {
        "id": "p0MsZwgYGhMl",
        "colab_type": "code",
        "colab": {}
      },
      "source": [
        "def square(y):\n",
        "  return y**2"
      ],
      "execution_count": 0,
      "outputs": []
    },
    {
      "cell_type": "code",
      "metadata": {
        "id": "JubM1SAzGrsC",
        "colab_type": "code",
        "colab": {
          "base_uri": "https://localhost:8080/",
          "height": 34
        },
        "outputId": "b53b8baa-3f3d-4589-a23f-d48125e5d76c"
      },
      "source": [
        "num=square(3)\n",
        "print(num)"
      ],
      "execution_count": 50,
      "outputs": [
        {
          "output_type": "stream",
          "text": [
            "9\n"
          ],
          "name": "stdout"
        }
      ]
    },
    {
      "cell_type": "markdown",
      "metadata": {
        "id": "rrT0CR2AG3ye",
        "colab_type": "text"
      },
      "source": [
        "# **External Libraries**"
      ]
    },
    {
      "cell_type": "code",
      "metadata": {
        "id": "xiyzPRZlIriP",
        "colab_type": "code",
        "colab": {}
      },
      "source": [
        "#To install the latest version of “SomePackage\"\n",
        "pip install SomePackage"
      ],
      "execution_count": 0,
      "outputs": []
    },
    {
      "cell_type": "code",
      "metadata": {
        "id": "ZSkrIMzDIrhp",
        "colab_type": "code",
        "colab": {}
      },
      "source": [
        "#To install specific version\n",
        "pip install SomePackage==1.3"
      ],
      "execution_count": 0,
      "outputs": []
    },
    {
      "cell_type": "code",
      "metadata": {
        "id": "ZTeQmZczIrg3",
        "colab_type": "code",
        "colab": {}
      },
      "source": [
        "#To upgrade the current \"SomePackage\"\n",
        "pip insstall --upgrade SomePackage"
      ],
      "execution_count": 0,
      "outputs": []
    },
    {
      "cell_type": "code",
      "metadata": {
        "id": "R7mcET1cL8lH",
        "colab_type": "code",
        "colab": {}
      },
      "source": [
        ""
      ],
      "execution_count": 0,
      "outputs": []
    }
  ]
}